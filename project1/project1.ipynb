{
 "cells": [
  {
   "cell_type": "markdown",
   "metadata": {},
   "source": [
    "Project 1  Qinya Wang"
   ]
  },
  {
   "cell_type": "markdown",
   "metadata": {},
   "source": [
    "=========================Problem 1==========================="
   ]
  },
  {
   "cell_type": "markdown",
   "metadata": {},
   "source": [
    "Part A"
   ]
  },
  {
   "cell_type": "markdown",
   "metadata": {},
   "source": [
    "Count how many times the characters were mentioned by name.\n",
    "In my understanding, expression such as \"Jo's\" is also a kind of mentioned by name."
   ]
  },
  {
   "cell_type": "code",
   "execution_count": 11,
   "metadata": {
    "collapsed": false
   },
   "outputs": [
    {
     "name": "stdout",
     "output_type": "stream",
     "text": [
      "--2016-09-23 02:14:30--  https://raw.githubusercontent.com/gwsb-istm-6212-fall-2016/syllabus-and-schedule/master/projects/project-01/women.txt\n",
      "Resolving raw.githubusercontent.com (raw.githubusercontent.com)... 151.101.32.133\n",
      "Connecting to raw.githubusercontent.com (raw.githubusercontent.com)|151.101.32.133|:443... connected.\n",
      "HTTP request sent, awaiting response... 200 OK\n",
      "Length: 1053440 (1.0M) [text/plain]\n",
      "Saving to: ‘women.txt’\n",
      "\n",
      "women.txt           100%[===================>]   1.00M  3.42MB/s    in 0.3s    \n",
      "\n",
      "2016-09-23 02:14:30 (3.42 MB/s) - ‘women.txt’ saved [1053440/1053440]\n",
      "\n"
     ]
    }
   ],
   "source": [
    "!wget https://raw.githubusercontent.com/gwsb-istm-6212-fall-2016/syllabus-and-schedule/master/projects/project-01/women.txt"
   ]
  },
  {
   "cell_type": "code",
   "execution_count": 33,
   "metadata": {
    "collapsed": false
   },
   "outputs": [
    {
     "name": "stdout",
     "output_type": "stream",
     "text": [
      "1355\r\n"
     ]
    }
   ],
   "source": [
    "!cat women.txt | grep -oE '\\w{{2,}}'|grep -wc \"Jo\""
   ]
  },
  {
   "cell_type": "code",
   "execution_count": 37,
   "metadata": {
    "collapsed": false
   },
   "outputs": [
    {
     "name": "stdout",
     "output_type": "stream",
     "text": [
      "459\r\n"
     ]
    }
   ],
   "source": [
    "!cat women.txt | grep -oE '\\w{{2,}}'|grep -wc \"Beth\""
   ]
  },
  {
   "cell_type": "code",
   "execution_count": 22,
   "metadata": {
    "collapsed": false,
    "scrolled": true
   },
   "outputs": [
    {
     "name": "stdout",
     "output_type": "stream",
     "text": [
      "683\r\n"
     ]
    }
   ],
   "source": [
    "!cat women.txt | grep -oE '\\w{{2,}}'|grep -wc \"Meg\""
   ]
  },
  {
   "cell_type": "code",
   "execution_count": 23,
   "metadata": {
    "collapsed": false
   },
   "outputs": [
    {
     "name": "stdout",
     "output_type": "stream",
     "text": [
      "645\r\n"
     ]
    }
   ],
   "source": [
    "!cat women.txt | grep -oE '\\w{{2,}}'|grep -wc \"Amy\""
   ]
  },
  {
   "cell_type": "markdown",
   "metadata": {},
   "source": [
    "Part B"
   ]
  },
  {
   "cell_type": "markdown",
   "metadata": {},
   "source": [
    "Count the number of speaking lines of Romeo and Juliet separately."
   ]
  },
  {
   "cell_type": "code",
   "execution_count": 3,
   "metadata": {
    "collapsed": false
   },
   "outputs": [
    {
     "name": "stdout",
     "output_type": "stream",
     "text": [
      "--2016-09-23 02:08:30--  https://raw.githubusercontent.com/gwsb-istm-6212-fall-2016/syllabus-and-schedule/master/projects/project-01/romeo.txt\n",
      "Resolving raw.githubusercontent.com (raw.githubusercontent.com)... 151.101.32.133\n",
      "Connecting to raw.githubusercontent.com (raw.githubusercontent.com)|151.101.32.133|:443... connected.\n",
      "HTTP request sent, awaiting response... 200 OK\n",
      "Length: 178983 (175K) [text/plain]\n",
      "Saving to: ‘romeo.txt’\n",
      "\n",
      "romeo.txt           100%[===================>] 174.79K  --.-KB/s    in 0.08s   \n",
      "\n",
      "2016-09-23 02:08:31 (2.12 MB/s) - ‘romeo.txt’ saved [178983/178983]\n",
      "\n"
     ]
    }
   ],
   "source": [
    "!wget https://raw.githubusercontent.com/gwsb-istm-6212-fall-2016/syllabus-and-schedule/master/projects/project-01/romeo.txt"
   ]
  },
  {
   "cell_type": "code",
   "execution_count": 8,
   "metadata": {
    "collapsed": false,
    "scrolled": true
   },
   "outputs": [
    {
     "name": "stdout",
     "output_type": "stream",
     "text": [
      "163\r\n"
     ]
    }
   ],
   "source": [
    "!grep \"Rom. \" romeo.txt | wc -l"
   ]
  },
  {
   "cell_type": "code",
   "execution_count": 7,
   "metadata": {
    "collapsed": false
   },
   "outputs": [
    {
     "name": "stdout",
     "output_type": "stream",
     "text": [
      "117\r\n"
     ]
    }
   ],
   "source": [
    "!grep \"Jul. \" romeo.txt | wc -l"
   ]
  },
  {
   "cell_type": "markdown",
   "metadata": {},
   "source": [
    "========================Problem 2============================"
   ]
  },
  {
   "cell_type": "markdown",
   "metadata": {},
   "source": [
    "Part A "
   ]
  },
  {
   "cell_type": "code",
   "execution_count": 18,
   "metadata": {
    "collapsed": false,
    "scrolled": true
   },
   "outputs": [
    {
     "name": "stdout",
     "output_type": "stream",
     "text": [
      "--2016-09-22 23:45:41--  https://github.com/gwsb-istm-6212-fall-2016/syllabus-and-schedule/blob/master/projects/project-01/2016q1.csv.zip?raw=true\n",
      "Resolving github.com (github.com)... 192.30.253.112\n",
      "Connecting to github.com (github.com)|192.30.253.112|:443... connected.\n",
      "HTTP request sent, awaiting response... 302 Found\n",
      "Location: https://github.com/gwsb-istm-6212-fall-2016/syllabus-and-schedule/raw/master/projects/project-01/2016q1.csv.zip [following]\n",
      "--2016-09-22 23:45:41--  https://github.com/gwsb-istm-6212-fall-2016/syllabus-and-schedule/raw/master/projects/project-01/2016q1.csv.zip\n",
      "Reusing existing connection to github.com:443.\n",
      "HTTP request sent, awaiting response... 302 Found\n",
      "Location: https://raw.githubusercontent.com/gwsb-istm-6212-fall-2016/syllabus-and-schedule/master/projects/project-01/2016q1.csv.zip [following]\n",
      "--2016-09-22 23:45:41--  https://raw.githubusercontent.com/gwsb-istm-6212-fall-2016/syllabus-and-schedule/master/projects/project-01/2016q1.csv.zip\n",
      "Resolving raw.githubusercontent.com (raw.githubusercontent.com)... 151.101.32.133\n",
      "Connecting to raw.githubusercontent.com (raw.githubusercontent.com)|151.101.32.133|:443... connected.\n",
      "HTTP request sent, awaiting response... 200 OK\n",
      "Length: 10643003 (10M) [application/octet-stream]\n",
      "Saving to: ‘2016q1.csv.zip?raw=true’\n",
      "\n",
      "2016q1.csv.zip?raw= 100%[===================>]  10.15M  6.07MB/s    in 1.7s    \n",
      "\n",
      "2016-09-22 23:45:43 (6.07 MB/s) - ‘2016q1.csv.zip?raw=true’ saved [10643003/10643003]\n",
      "\n"
     ]
    }
   ],
   "source": [
    "!wget https://github.com/gwsb-istm-6212-fall-2016/syllabus-and-schedule/blob/master/projects/project-01/2016q1.csv.zip?raw=true"
   ]
  },
  {
   "cell_type": "code",
   "execution_count": 19,
   "metadata": {
    "collapsed": false
   },
   "outputs": [
    {
     "name": "stdout",
     "output_type": "stream",
     "text": [
      "Archive:  2016q1.csv.zip?raw=true\n",
      "  inflating: 2016q1.csv              \n"
     ]
    }
   ],
   "source": [
    "!unzip 2016q1.csv.zip?raw=true"
   ]
  },
  {
   "cell_type": "markdown",
   "metadata": {},
   "source": [
    "Show the indexes of csv file:"
   ]
  },
  {
   "cell_type": "code",
   "execution_count": 20,
   "metadata": {
    "collapsed": false
   },
   "outputs": [
    {
     "name": "stdout",
     "output_type": "stream",
     "text": [
      "  1: Duration (ms)\r\n",
      "  2: Start date\r\n",
      "  3: End date\r\n",
      "  4: Start station number\r\n",
      "  5: Start station\r\n",
      "  6: End station number\r\n",
      "  7: End station\r\n",
      "  8: Bike number\r\n",
      "  9: Member Type\r\n"
     ]
    }
   ],
   "source": [
    "!csvcut -n 2016q1.csv"
   ]
  },
  {
   "cell_type": "markdown",
   "metadata": {},
   "source": [
    "Select column 'Start station' and output it to a new txt file. "
   ]
  },
  {
   "cell_type": "code",
   "execution_count": 21,
   "metadata": {
    "collapsed": false
   },
   "outputs": [],
   "source": [
    "!csvcut -c5 2016q1.csv > depart.txt"
   ]
  },
  {
   "cell_type": "code",
   "execution_count": 22,
   "metadata": {
    "collapsed": false,
    "scrolled": false
   },
   "outputs": [
    {
     "name": "stdout",
     "output_type": "stream",
     "text": [
      "  13120 Columbus Circle / Union Station\r\n",
      "   9560 Massachusetts Ave & Dupont Circle NW\r\n",
      "   9388 Lincoln Memorial\r\n",
      "   8138 Jefferson Dr & 14th St SW\r\n",
      "   7479 Thomas Circle\r\n",
      "   7401 15th & P St NW\r\n",
      "   6568 14th & V St NW\r\n",
      "   6491 New Hampshire Ave & T St NW\r\n",
      "   5649 Eastern Market Metro / Pennsylvania Ave & 7th St SE\r\n",
      "   5514 17th & Corcoran St NW\r\n"
     ]
    }
   ],
   "source": [
    "!cat depart.txt | sort | uniq -c | sort -rn | head -10"
   ]
  },
  {
   "cell_type": "code",
   "execution_count": 23,
   "metadata": {
    "collapsed": true
   },
   "outputs": [],
   "source": [
    "!csvcut -c7 2016q1.csv > destination.txt"
   ]
  },
  {
   "cell_type": "code",
   "execution_count": 24,
   "metadata": {
    "collapsed": false
   },
   "outputs": [
    {
     "name": "stdout",
     "output_type": "stream",
     "text": [
      "  13880 Columbus Circle / Union Station\r\n",
      "  11183 Massachusetts Ave & Dupont Circle NW\r\n",
      "   9419 Lincoln Memorial\r\n",
      "   8975 Jefferson Dr & 14th St SW\r\n",
      "   8092 15th & P St NW\r\n",
      "   7267 14th & V St NW\r\n",
      "   6997 Thomas Circle\r\n",
      "   6245 New Hampshire Ave & T St NW\r\n",
      "   5761 5th & K St NW\r\n",
      "   5651 17th & Corcoran St NW\r\n"
     ]
    }
   ],
   "source": [
    "!cat destination.txt | sort | uniq -c | sort -rn | head -10"
   ]
  },
  {
   "cell_type": "markdown",
   "metadata": {},
   "source": [
    "Part B"
   ]
  },
  {
   "cell_type": "code",
   "execution_count": 25,
   "metadata": {
    "collapsed": false
   },
   "outputs": [],
   "source": [
    "!csvcut -c5,8 2016q1.csv | csvgrep -c1 -m 'Columbus Circle / Union Station' > bike1.txt"
   ]
  },
  {
   "cell_type": "code",
   "execution_count": 26,
   "metadata": {
    "collapsed": false
   },
   "outputs": [
    {
     "name": "stdout",
     "output_type": "stream",
     "text": [
      "     17 Columbus Circle / Union Station,W22227\r\n",
      "     16 Columbus Circle / Union Station,W21867\r\n",
      "     16 Columbus Circle / Union Station,W21641\r\n",
      "     16 Columbus Circle / Union Station,W21538\r\n",
      "     16 Columbus Circle / Union Station,W21239\r\n",
      "     16 Columbus Circle / Union Station,W20540\r\n",
      "     16 Columbus Circle / Union Station,W00714\r\n",
      "     15 Columbus Circle / Union Station,W22080\r\n",
      "     15 Columbus Circle / Union Station,W21450\r\n",
      "     15 Columbus Circle / Union Station,W21076\r\n",
      "sort: write failed: 'standard output': Broken pipe\r\n",
      "sort: write error\r\n"
     ]
    }
   ],
   "source": [
    "!cat bike1.txt | sort | uniq -c | sort -rn | head -10"
   ]
  },
  {
   "cell_type": "code",
   "execution_count": 27,
   "metadata": {
    "collapsed": true
   },
   "outputs": [],
   "source": [
    "!csvcut -c7,8 2016q1.csv | csvgrep -c1 -m 'Columbus Circle / Union Station' > bike2.txt"
   ]
  },
  {
   "cell_type": "code",
   "execution_count": 28,
   "metadata": {
    "collapsed": false,
    "scrolled": true
   },
   "outputs": [
    {
     "name": "stdout",
     "output_type": "stream",
     "text": [
      "     18 Columbus Circle / Union Station,W00485\r\n",
      "     17 Columbus Circle / Union Station,W22227\r\n",
      "     16 Columbus Circle / Union Station,W22099\r\n",
      "     16 Columbus Circle / Union Station,W22080\r\n",
      "     16 Columbus Circle / Union Station,W21239\r\n",
      "     16 Columbus Circle / Union Station,W21076\r\n",
      "     16 Columbus Circle / Union Station,W20425\r\n",
      "     16 Columbus Circle / Union Station,W00714\r\n",
      "     15 Columbus Circle / Union Station,W21997\r\n",
      "     15 Columbus Circle / Union Station,W21867\r\n",
      "sort: write failed: 'standard output': Broken pipe\r\n",
      "sort: write error\r\n"
     ]
    }
   ],
   "source": [
    "!cat bike2.txt | sort | uniq -c | sort -rn | head -10"
   ]
  },
  {
   "cell_type": "markdown",
   "metadata": {},
   "source": [
    "=============================== Problem 3 ========================================"
   ]
  },
  {
   "cell_type": "markdown",
   "metadata": {},
   "source": [
    "Part A"
   ]
  },
  {
   "cell_type": "markdown",
   "metadata": {},
   "source": [
    "Get top 10 words in Little Women using pipeline"
   ]
  },
  {
   "cell_type": "code",
   "execution_count": 29,
   "metadata": {
    "collapsed": false,
    "scrolled": false
   },
   "outputs": [
    {
     "name": "stdout",
     "output_type": "stream",
     "text": [
      "   8155 and\r\n",
      "   7689 the\r\n",
      "   5152 to\r\n",
      "   3523 of\r\n",
      "   3245 her\r\n",
      "   2774 it\r\n",
      "   2503 in\r\n",
      "   2447 you\r\n",
      "   2343 she\r\n",
      "   2233 for\r\n",
      "sort: write failed: 'standard output': Broken pipe\r\n",
      "sort: write error\r\n"
     ]
    }
   ],
   "source": [
    "!cat women.txt | grep -oE '\\w{{2,}}' | tr '[:upper:]' '[:lower:]' | sort | uniq -c | sort -rn | head -10"
   ]
  },
  {
   "cell_type": "code",
   "execution_count": 30,
   "metadata": {
    "collapsed": false
   },
   "outputs": [],
   "source": [
    "!chmod +x split.py"
   ]
  },
  {
   "cell_type": "code",
   "execution_count": 31,
   "metadata": {
    "collapsed": true
   },
   "outputs": [],
   "source": [
    "!chmod +x lower.py"
   ]
  },
  {
   "cell_type": "markdown",
   "metadata": {},
   "source": [
    "Use the filters and the result is same with that of the pipeline."
   ]
  },
  {
   "cell_type": "code",
   "execution_count": 32,
   "metadata": {
    "collapsed": false
   },
   "outputs": [
    {
     "name": "stdout",
     "output_type": "stream",
     "text": [
      "   8155 and\r\n",
      "   7689 the\r\n",
      "   5152 to\r\n",
      "   3523 of\r\n",
      "   3245 her\r\n",
      "   2774 it\r\n",
      "   2503 in\r\n",
      "   2447 you\r\n",
      "   2343 she\r\n",
      "   2233 for\r\n",
      "sort: write failed: 'standard output': Broken pipe\r\n",
      "sort: write error\r\n"
     ]
    }
   ],
   "source": [
    "!cat women.txt | ./split.py | ./lower.py | sort | uniq -c | sort -rn | head -10"
   ]
  },
  {
   "cell_type": "markdown",
   "metadata": {},
   "source": [
    "Part B"
   ]
  },
  {
   "cell_type": "markdown",
   "metadata": {},
   "source": [
    "From output of part A, we have stopwords = ['and','the','to','of','her','it','in','you','she','for']"
   ]
  },
  {
   "cell_type": "code",
   "execution_count": 5,
   "metadata": {
    "collapsed": true
   },
   "outputs": [],
   "source": [
    "!chmod +x remove.py"
   ]
  },
  {
   "cell_type": "markdown",
   "metadata": {},
   "source": [
    "Top 25 words in Little Women with stop\n",
    "words removed"
   ]
  },
  {
   "cell_type": "code",
   "execution_count": 6,
   "metadata": {
    "collapsed": false
   },
   "outputs": [
    {
     "name": "stdout",
     "output_type": "stream",
     "text": [
      "   2033 was\r\n",
      "   1978 as\r\n",
      "   1937 that\r\n",
      "   1854 with\r\n",
      "   1598 he\r\n",
      "   1469 but\r\n",
      "   1362 jo\r\n",
      "   1135 so\r\n",
      "   1118 his\r\n",
      "   1067 at\r\n",
      "   1063 had\r\n",
      "   1014 be\r\n",
      "    976 on\r\n",
      "    942 not\r\n",
      "    916 if\r\n",
      "    881 all\r\n",
      "    843 my\r\n",
      "    827 said\r\n",
      "    821 is\r\n",
      "    782 him\r\n",
      "    755 me\r\n",
      "    730 little\r\n",
      "    725 one\r\n",
      "    719 they\r\n",
      "    717 have\r\n",
      "sort: write failed: 'standard output': Broken pipe\r\n",
      "sort: write error\r\n"
     ]
    }
   ],
   "source": [
    "!cat women.txt | ./lower.py | ./remove.py | sort | uniq -c | sort -rn | head -25"
   ]
  },
  {
   "cell_type": "markdown",
   "metadata": {
    "collapsed": true
   },
   "source": [
    "===========================Extra================================="
   ]
  },
  {
   "cell_type": "code",
   "execution_count": 1,
   "metadata": {
    "collapsed": false
   },
   "outputs": [
    {
     "name": "stdout",
     "output_type": "stream",
     "text": [
      "--2016-09-23 01:27:09--  https://github.com/gwsb-istm-6212-fall-2016/syllabus-and-schedule/blob/master/lectures/week-03/texts.zip?raw=true\n",
      "Resolving github.com (github.com)... 192.30.253.113\n",
      "Connecting to github.com (github.com)|192.30.253.113|:443... connected.\n",
      "HTTP request sent, awaiting response... 302 Found\n",
      "Location: https://github.com/gwsb-istm-6212-fall-2016/syllabus-and-schedule/raw/master/lectures/week-03/texts.zip [following]\n",
      "--2016-09-23 01:27:09--  https://github.com/gwsb-istm-6212-fall-2016/syllabus-and-schedule/raw/master/lectures/week-03/texts.zip\n",
      "Reusing existing connection to github.com:443.\n",
      "HTTP request sent, awaiting response... 302 Found\n",
      "Location: https://raw.githubusercontent.com/gwsb-istm-6212-fall-2016/syllabus-and-schedule/master/lectures/week-03/texts.zip [following]\n",
      "--2016-09-23 01:27:09--  https://raw.githubusercontent.com/gwsb-istm-6212-fall-2016/syllabus-and-schedule/master/lectures/week-03/texts.zip\n",
      "Resolving raw.githubusercontent.com (raw.githubusercontent.com)... 151.101.32.133\n",
      "Connecting to raw.githubusercontent.com (raw.githubusercontent.com)|151.101.32.133|:443... connected.\n",
      "HTTP request sent, awaiting response... 200 OK\n",
      "Length: 12668137 (12M) [application/octet-stream]\n",
      "Saving to: ‘texts.zip?raw=true’\n",
      "\n",
      "texts.zip?raw=true  100%[===================>]  12.08M  6.15MB/s    in 2.0s    \n",
      "\n",
      "2016-09-23 01:27:11 (6.15 MB/s) - ‘texts.zip?raw=true’ saved [12668137/12668137]\n",
      "\n"
     ]
    }
   ],
   "source": [
    "!wget https://github.com/gwsb-istm-6212-fall-2016/syllabus-and-schedule/blob/master/lectures/week-03/texts.zip?raw=true"
   ]
  },
  {
   "cell_type": "code",
   "execution_count": 2,
   "metadata": {
    "collapsed": false
   },
   "outputs": [
    {
     "name": "stdout",
     "output_type": "stream",
     "text": [
      "Archive:  texts.zip?raw=true\n",
      "  inflating: manyt/10001.txt         \n",
      "  inflating: manyt/10002.txt         \n",
      "  inflating: manyt/10003.txt         \n",
      "  inflating: manyt/10004.txt         \n",
      "  inflating: manyt/10005.txt         \n",
      "  inflating: manyt/10006.txt         \n",
      "  inflating: manyt/10007.txt         \n",
      "  inflating: manyt/10008.txt         \n",
      "  inflating: manyt/10009.txt         \n",
      "  inflating: manyt/10010.txt         \n",
      "  inflating: manyt/10011.txt         \n",
      "  inflating: manyt/10012.txt         \n",
      "  inflating: manyt/10013.txt         \n",
      "  inflating: manyt/10014.txt         \n",
      "  inflating: manyt/10015.txt         \n",
      "  inflating: manyt/10016.txt         \n",
      "  inflating: manyt/10017.txt         \n",
      "  inflating: manyt/10018.txt         \n",
      "  inflating: manyt/10019.txt         \n",
      "  inflating: manyt/10020.txt         \n",
      "  inflating: manyt/10021.txt         \n",
      "  inflating: manyt/10023.txt         \n",
      "  inflating: manyt/10024.txt         \n",
      "  inflating: manyt/10025.txt         \n",
      "  inflating: manyt/10026.txt         \n",
      "  inflating: manyt/10027.txt         \n",
      "  inflating: manyt/10028.txt         \n",
      "  inflating: manyt/10029.txt         \n",
      "  inflating: manyt/10030.txt         \n",
      "  inflating: manyt/10031.txt         \n",
      "  inflating: manyt/10032.txt         \n",
      "  inflating: manyt/10033.txt         \n",
      "  inflating: manyt/10034.txt         \n",
      "  inflating: manyt/10035.txt         \n",
      "  inflating: manyt/10036.txt         \n",
      "  inflating: manyt/10037.txt         \n",
      "  inflating: manyt/10038.txt         \n",
      "  inflating: manyt/10039.txt         \n",
      "  inflating: manyt/10040.txt         \n",
      "  inflating: manyt/10041.txt         \n",
      "  inflating: manyt/10042.txt         \n",
      "  inflating: manyt/10043.txt         \n",
      "  inflating: manyt/10045.txt         \n",
      "  inflating: manyt/10046.txt         \n",
      "  inflating: manyt/10047.txt         \n",
      "  inflating: manyt/10048.txt         \n",
      "  inflating: manyt/10049.txt         \n",
      "  inflating: manyt/10050.txt         \n",
      "  inflating: manyt/10051.txt         \n",
      "  inflating: manyt/10052.txt         \n",
      "  inflating: manyt/10056.txt         \n",
      "  inflating: manyt/10059.txt         \n",
      "  inflating: manyt/10060.txt         \n",
      "  inflating: manyt/10062.txt         \n",
      "  inflating: manyt/12370.txt         \n",
      "  inflating: manyt/12372.txt         \n",
      "  inflating: manyt/12373.txt         \n",
      "  inflating: manyt/12374.txt         \n",
      "  inflating: manyt/12375.txt         \n",
      "  inflating: manyt/12376.txt         \n",
      "  inflating: manyt/12377.txt         \n",
      "  inflating: manyt/12378.txt         \n",
      "  inflating: manyt/12380.txt         \n",
      "  inflating: manyt/12381.txt         \n",
      "  inflating: manyt/12383.txt         \n",
      "  inflating: manyt/12384.txt         \n",
      "  inflating: manyt/12385.txt         \n",
      "  inflating: manyt/12386.txt         \n",
      "  inflating: manyt/1jcfs10.txt       \n",
      "  inflating: manyt/2babb10.txt       \n",
      "  inflating: manyt/3babb10.txt       \n",
      "  inflating: manyt/50bab10.txt       \n",
      "  inflating: manyt/ajtl10.txt        \n",
      "  inflating: manyt/allyr10.txt       \n",
      "  inflating: manyt/alpsn10.txt       \n",
      "  inflating: manyt/balen10.txt       \n",
      "  inflating: manyt/baleng2.txt       \n",
      "  inflating: manyt/batlf10.txt       \n",
      "  inflating: manyt/bgopr10.txt       \n",
      "  inflating: manyt/brnte10.txt       \n",
      "  inflating: manyt/bstjg10.txt       \n",
      "  inflating: manyt/cambp10.txt       \n",
      "  inflating: manyt/canbe10.txt       \n",
      "  inflating: manyt/cantp10.txt       \n",
      "  inflating: manyt/cfrz10.txt        \n",
      "  inflating: manyt/crsnk10.txt       \n",
      "  inflating: manyt/esbio10.txt       \n",
      "  inflating: manyt/grybr10.txt       \n",
      "  inflating: manyt/mklmt10.txt       \n",
      "  inflating: manyt/morem10.txt       \n",
      "  inflating: manyt/mspcd10.txt       \n",
      "  inflating: manyt/penbr10.txt       \n",
      "  inflating: manyt/pgjr10.txt        \n",
      "  inflating: manyt/pntvw10.txt       \n",
      "  inflating: manyt/prcpg10.txt       \n",
      "  inflating: manyt/prhg10.txt        \n",
      "  inflating: manyt/prhsb10.txt       \n",
      "  inflating: manyt/rlsl110.txt       \n",
      "  inflating: manyt/rlsl210.txt       \n",
      "  inflating: manyt/rmlav10.txt       \n",
      "  inflating: manyt/sesli10.txt       \n",
      "  inflating: manyt/svyrd10.txt       \n",
      "  inflating: manyt/tecom10.txt       \n",
      "  inflating: manyt/utrkj10.txt       \n",
      "  inflating: manyt/vpasm10.txt       \n",
      "  inflating: manyt/wldsp10.txt       \n",
      "  inflating: manyt/wtrbs10.txt       \n",
      "  inflating: manyt/zncli10.txt       \n"
     ]
    }
   ],
   "source": [
    "!unzip -d manyt texts.zip?raw=true"
   ]
  },
  {
   "cell_type": "code",
   "execution_count": 2,
   "metadata": {
    "collapsed": false
   },
   "outputs": [
    {
     "name": "stdout",
     "output_type": "stream",
     "text": [
      "0.00user 0.00system 0:00.00elapsed 0%CPU (0avgtext+0avgdata 2388maxresident)k\n",
      "320inputs+0outputs (2major+118minor)pagefaults 0swaps\n",
      "When using programs that use GNU Parallel to process data for publication please cite:\n",
      "\n",
      "  O. Tange (2011): GNU Parallel - The Command-Line Power Tool,\n",
      "  ;login: The USENIX Magazine, February 2011:42-47.\n",
      "\n",
      "This helps funding further development; and it won't cost you a cent.\n",
      "Or you can get GNU Parallel without this requirement by paying 10000 EUR.\n",
      "\n",
      "To silence this citation notice run 'parallel --bibtex' once or use '--no-notice'.\n",
      "\n",
      "\u001b7\u001b[r\u001b[999;999H\u001b[6n\n",
      "Computers / CPU cores / Max jobs to run\n",
      "1:local / 1 / 1\n",
      "\u001b7\u001b[r\u001b[999;999H\u001b[6n\n",
      "Computer:jobs running/jobs completed/%of started jobs/Average seconds to complete\n",
      "ETA: 0s Left: 0 AVG: 9.94s  local:0/108/100%/10.2s \n"
     ]
    }
   ],
   "source": [
    "!time ls manyt/*.txt \\\n",
    "    | parallel --eta -j+0 \"grep -oE '\\w{2,}' {} | tr '[:upper:]' '[:lower:]' >> manyt/all-words.txt\""
   ]
  },
  {
   "cell_type": "code",
   "execution_count": 8,
   "metadata": {
    "collapsed": false
   },
   "outputs": [
    {
     "name": "stdout",
     "output_type": "stream",
     "text": [
      "8.26user 0.49system 0:26.75elapsed 32%CPU (0avgtext+0avgdata 209956maxresident)k\n",
      "84520inputs+57984outputs (9major+26949minor)pagefaults 0swaps\n",
      "  62650 that\n",
      "  55231 was\n",
      "  53182 he\n",
      "  47931 is\n",
      "  47318 with\n",
      "  42855 his\n",
      "  41639 as\n",
      "  33086 on\n",
      "  33034 but\n",
      "  32072 not\n",
      "sort: write failed: 'standard output': Broken pipe\n",
      "sort: write error\n"
     ]
    }
   ],
   "source": [
    "!time sort manyt/all-words.txt \\\n",
    "    | ./remove.py\\\n",
    "    | uniq -c \\\n",
    "    | sort -rn \\\n",
    "    | head -25"
   ]
  },
  {
   "cell_type": "code",
   "execution_count": null,
   "metadata": {
    "collapsed": true
   },
   "outputs": [],
   "source": []
  }
 ],
 "metadata": {
  "anaconda-cloud": {},
  "kernelspec": {
   "display_name": "Python [Root]",
   "language": "python",
   "name": "Python [Root]"
  },
  "language_info": {
   "codemirror_mode": {
    "name": "ipython",
    "version": 3
   },
   "file_extension": ".py",
   "mimetype": "text/x-python",
   "name": "python",
   "nbconvert_exporter": "python",
   "pygments_lexer": "ipython3",
   "version": "3.5.2"
  }
 },
 "nbformat": 4,
 "nbformat_minor": 0
}
